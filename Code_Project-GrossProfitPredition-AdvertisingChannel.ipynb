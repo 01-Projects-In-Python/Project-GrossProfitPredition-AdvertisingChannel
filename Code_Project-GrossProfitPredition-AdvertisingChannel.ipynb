{
  "cells": [
    {
      "cell_type": "markdown",
      "metadata": {
        "id": "view-in-github",
        "colab_type": "text"
      },
      "source": [
        "<a href=\"https://colab.research.google.com/github/01-Projects-In-Python/Project-GrossProfitPredition-AdvertisingChannel/blob/main/Code_Project-GrossProfitPredition-AdvertisingChannel.ipynb\" target=\"_parent\"><img src=\"https://colab.research.google.com/assets/colab-badge.svg\" alt=\"Open In Colab\"/></a>"
      ]
    },
    {
      "cell_type": "markdown",
      "id": "95fa2fe7",
      "metadata": {
        "id": "95fa2fe7"
      },
      "source": [
        "## GROSS PROFIT PREDITION - ADVERTISING CHANNELS:"
      ]
    },
    {
      "cell_type": "code",
      "execution_count": null,
      "id": "f659150a",
      "metadata": {
        "id": "f659150a"
      },
      "outputs": [],
      "source": [
        "import pandas as pd\n",
        "import seaborn as sns\n",
        "import matplotlib.pyplot as plt\n",
        "import warnings\n",
        "import statsmodels.api as sm\n",
        "warnings.filterwarnings('ignore')\n",
        "import numpy as np\n",
        "from statsmodels.formula.api import ols\n",
        "import scipy.stats as stats\n",
        "from statsmodels.graphics.factorplots import interaction_plot\n",
        "from sklearn.linear_model import LinearRegression\n",
        "import statsmodels.formula.api as smf\n",
        "from sklearn.model_selection import train_test_split\n",
        "from sklearn import metrics\n",
        "from sklearn.linear_model import Lasso"
      ]
    },
    {
      "cell_type": "code",
      "execution_count": null,
      "id": "7b84d84a",
      "metadata": {
        "id": "7b84d84a"
      },
      "outputs": [],
      "source": [
        "df = pd.read_csv('Advertise.csv', sep = ',', na_values = 'nan', thousands = '.')"
      ]
    },
    {
      "cell_type": "code",
      "execution_count": null,
      "id": "93ab2897",
      "metadata": {
        "id": "93ab2897",
        "outputId": "10d3071f-520c-430a-9db9-3d9a6e18002e"
      },
      "outputs": [
        {
          "data": {
            "text/html": [
              "<div>\n",
              "<style scoped>\n",
              "    .dataframe tbody tr th:only-of-type {\n",
              "        vertical-align: middle;\n",
              "    }\n",
              "\n",
              "    .dataframe tbody tr th {\n",
              "        vertical-align: top;\n",
              "    }\n",
              "\n",
              "    .dataframe thead th {\n",
              "        text-align: right;\n",
              "    }\n",
              "</style>\n",
              "<table border=\"1\" class=\"dataframe\">\n",
              "  <thead>\n",
              "    <tr style=\"text-align: right;\">\n",
              "      <th></th>\n",
              "      <th>Channel</th>\n",
              "      <th>Date</th>\n",
              "      <th>Ad Spend</th>\n",
              "      <th>Impressions</th>\n",
              "      <th>Clicks</th>\n",
              "      <th>Sales Transactions</th>\n",
              "      <th>Gross Profit</th>\n",
              "    </tr>\n",
              "  </thead>\n",
              "  <tbody>\n",
              "    <tr>\n",
              "      <th>0</th>\n",
              "      <td>Facebook</td>\n",
              "      <td>05/07/2021</td>\n",
              "      <td>$720</td>\n",
              "      <td>13,231</td>\n",
              "      <td>8</td>\n",
              "      <td>1</td>\n",
              "      <td>$50</td>\n",
              "    </tr>\n",
              "    <tr>\n",
              "      <th>1</th>\n",
              "      <td>Google</td>\n",
              "      <td>05/07/2021</td>\n",
              "      <td>$1,328</td>\n",
              "      <td>22,413</td>\n",
              "      <td>208</td>\n",
              "      <td>35</td>\n",
              "      <td>$1,750</td>\n",
              "    </tr>\n",
              "    <tr>\n",
              "      <th>2</th>\n",
              "      <td>LinkedIn</td>\n",
              "      <td>05/07/2021</td>\n",
              "      <td>$1,191</td>\n",
              "      <td>26,744</td>\n",
              "      <td>121</td>\n",
              "      <td>8</td>\n",
              "      <td>$500</td>\n",
              "    </tr>\n",
              "    <tr>\n",
              "      <th>3</th>\n",
              "      <td>Reddit</td>\n",
              "      <td>05/07/2021</td>\n",
              "      <td>$139</td>\n",
              "      <td>3,136</td>\n",
              "      <td>30</td>\n",
              "      <td>4</td>\n",
              "      <td>$200</td>\n",
              "    </tr>\n",
              "    <tr>\n",
              "      <th>4</th>\n",
              "      <td>Facebook</td>\n",
              "      <td>06/07/2021</td>\n",
              "      <td>$742</td>\n",
              "      <td>13,093</td>\n",
              "      <td>10</td>\n",
              "      <td>1</td>\n",
              "      <td>$50</td>\n",
              "    </tr>\n",
              "  </tbody>\n",
              "</table>\n",
              "</div>"
            ],
            "text/plain": [
              "    Channel        Date Ad Spend Impressions  Clicks  Sales Transactions  \\\n",
              "0  Facebook  05/07/2021     $720      13,231       8                   1   \n",
              "1    Google  05/07/2021   $1,328      22,413     208                  35   \n",
              "2  LinkedIn  05/07/2021   $1,191      26,744     121                   8   \n",
              "3    Reddit  05/07/2021     $139       3,136      30                   4   \n",
              "4  Facebook  06/07/2021     $742      13,093      10                   1   \n",
              "\n",
              "  Gross Profit  \n",
              "0          $50  \n",
              "1       $1,750  \n",
              "2         $500  \n",
              "3         $200  \n",
              "4          $50  "
            ]
          },
          "execution_count": 417,
          "metadata": {},
          "output_type": "execute_result"
        }
      ],
      "source": [
        "df.head()"
      ]
    },
    {
      "cell_type": "code",
      "execution_count": null,
      "id": "5eb2445b",
      "metadata": {
        "id": "5eb2445b",
        "outputId": "7a14bbc2-6100-4789-d8e9-dd76bba9f484"
      },
      "outputs": [
        {
          "data": {
            "text/plain": [
              "(448, 7)"
            ]
          },
          "execution_count": 418,
          "metadata": {},
          "output_type": "execute_result"
        }
      ],
      "source": [
        "df.shape"
      ]
    },
    {
      "cell_type": "code",
      "execution_count": null,
      "id": "3e08f903",
      "metadata": {
        "id": "3e08f903",
        "outputId": "47911c06-865e-46ee-e66a-48fa7487aee9"
      },
      "outputs": [
        {
          "data": {
            "text/plain": [
              "Channel               0\n",
              "Date                  0\n",
              "Ad Spend              0\n",
              "Impressions           0\n",
              "Clicks                0\n",
              "Sales Transactions    0\n",
              "Gross Profit          0\n",
              "dtype: int64"
            ]
          },
          "execution_count": 419,
          "metadata": {},
          "output_type": "execute_result"
        }
      ],
      "source": [
        "df.isnull().sum()"
      ]
    },
    {
      "cell_type": "code",
      "execution_count": null,
      "id": "a436a238",
      "metadata": {
        "scrolled": false,
        "id": "a436a238",
        "outputId": "f9fff2cf-d398-4846-d05d-f9a52e8de086"
      },
      "outputs": [
        {
          "name": "stdout",
          "output_type": "stream",
          "text": [
            "<class 'pandas.core.frame.DataFrame'>\n",
            "RangeIndex: 448 entries, 0 to 447\n",
            "Data columns (total 7 columns):\n",
            " #   Column              Non-Null Count  Dtype \n",
            "---  ------              --------------  ----- \n",
            " 0   Channel             448 non-null    object\n",
            " 1   Date                448 non-null    object\n",
            " 2   Ad Spend            448 non-null    object\n",
            " 3   Impressions         448 non-null    object\n",
            " 4   Clicks              448 non-null    int64 \n",
            " 5   Sales Transactions  448 non-null    int64 \n",
            " 6   Gross Profit        448 non-null    object\n",
            "dtypes: int64(2), object(5)\n",
            "memory usage: 24.6+ KB\n"
          ]
        }
      ],
      "source": [
        "df.info()"
      ]
    },
    {
      "cell_type": "code",
      "execution_count": null,
      "id": "b6e85e25",
      "metadata": {
        "id": "b6e85e25"
      },
      "outputs": [],
      "source": [
        "list_chage = ['Ad Spend', 'Gross Profit']"
      ]
    },
    {
      "cell_type": "code",
      "execution_count": null,
      "id": "0503f860",
      "metadata": {
        "id": "0503f860"
      },
      "outputs": [],
      "source": [
        "for x in list_split:\n",
        "    df[x] = df[x].str.replace('$', '')"
      ]
    },
    {
      "cell_type": "code",
      "execution_count": null,
      "id": "d14648fe",
      "metadata": {
        "scrolled": true,
        "id": "d14648fe",
        "outputId": "ddecb5a6-52be-4119-cfbe-3b435b5be9b8"
      },
      "outputs": [
        {
          "data": {
            "text/html": [
              "<div>\n",
              "<style scoped>\n",
              "    .dataframe tbody tr th:only-of-type {\n",
              "        vertical-align: middle;\n",
              "    }\n",
              "\n",
              "    .dataframe tbody tr th {\n",
              "        vertical-align: top;\n",
              "    }\n",
              "\n",
              "    .dataframe thead th {\n",
              "        text-align: right;\n",
              "    }\n",
              "</style>\n",
              "<table border=\"1\" class=\"dataframe\">\n",
              "  <thead>\n",
              "    <tr style=\"text-align: right;\">\n",
              "      <th></th>\n",
              "      <th>Channel</th>\n",
              "      <th>Date</th>\n",
              "      <th>Ad Spend</th>\n",
              "      <th>Impressions</th>\n",
              "      <th>Clicks</th>\n",
              "      <th>Sales Transactions</th>\n",
              "      <th>Gross Profit</th>\n",
              "    </tr>\n",
              "  </thead>\n",
              "  <tbody>\n",
              "    <tr>\n",
              "      <th>0</th>\n",
              "      <td>Facebook</td>\n",
              "      <td>05/07/2021</td>\n",
              "      <td>720</td>\n",
              "      <td>13,231</td>\n",
              "      <td>8</td>\n",
              "      <td>1</td>\n",
              "      <td>50</td>\n",
              "    </tr>\n",
              "    <tr>\n",
              "      <th>1</th>\n",
              "      <td>Google</td>\n",
              "      <td>05/07/2021</td>\n",
              "      <td>1,328</td>\n",
              "      <td>22,413</td>\n",
              "      <td>208</td>\n",
              "      <td>35</td>\n",
              "      <td>1,750</td>\n",
              "    </tr>\n",
              "    <tr>\n",
              "      <th>2</th>\n",
              "      <td>LinkedIn</td>\n",
              "      <td>05/07/2021</td>\n",
              "      <td>1,191</td>\n",
              "      <td>26,744</td>\n",
              "      <td>121</td>\n",
              "      <td>8</td>\n",
              "      <td>500</td>\n",
              "    </tr>\n",
              "    <tr>\n",
              "      <th>3</th>\n",
              "      <td>Reddit</td>\n",
              "      <td>05/07/2021</td>\n",
              "      <td>139</td>\n",
              "      <td>3,136</td>\n",
              "      <td>30</td>\n",
              "      <td>4</td>\n",
              "      <td>200</td>\n",
              "    </tr>\n",
              "    <tr>\n",
              "      <th>4</th>\n",
              "      <td>Facebook</td>\n",
              "      <td>06/07/2021</td>\n",
              "      <td>742</td>\n",
              "      <td>13,093</td>\n",
              "      <td>10</td>\n",
              "      <td>1</td>\n",
              "      <td>50</td>\n",
              "    </tr>\n",
              "  </tbody>\n",
              "</table>\n",
              "</div>"
            ],
            "text/plain": [
              "    Channel        Date Ad Spend Impressions  Clicks  Sales Transactions  \\\n",
              "0  Facebook  05/07/2021      720      13,231       8                   1   \n",
              "1    Google  05/07/2021    1,328      22,413     208                  35   \n",
              "2  LinkedIn  05/07/2021    1,191      26,744     121                   8   \n",
              "3    Reddit  05/07/2021      139       3,136      30                   4   \n",
              "4  Facebook  06/07/2021      742      13,093      10                   1   \n",
              "\n",
              "  Gross Profit  \n",
              "0           50  \n",
              "1        1,750  \n",
              "2          500  \n",
              "3          200  \n",
              "4           50  "
            ]
          },
          "execution_count": 423,
          "metadata": {},
          "output_type": "execute_result"
        }
      ],
      "source": [
        "df.head()"
      ]
    },
    {
      "cell_type": "code",
      "execution_count": null,
      "id": "7bb06f1a",
      "metadata": {
        "id": "7bb06f1a"
      },
      "outputs": [],
      "source": [
        "df['Ad Spend'] = pd.to_numeric(df['Ad Spend'].str.replace(',', ''), errors='coerce').astype(int)"
      ]
    },
    {
      "cell_type": "code",
      "execution_count": null,
      "id": "ff68de72",
      "metadata": {
        "id": "ff68de72"
      },
      "outputs": [],
      "source": [
        "df['Impressions'] = pd.to_numeric(df['Impressions'].str.replace(',', ''), errors='coerce').astype(int)"
      ]
    },
    {
      "cell_type": "code",
      "execution_count": null,
      "id": "addf3fae",
      "metadata": {
        "id": "addf3fae"
      },
      "outputs": [],
      "source": [
        "df['Gross Profit'] = pd.to_numeric(df['Gross Profit'].str.replace(',', ''), errors='coerce').astype(int)"
      ]
    },
    {
      "cell_type": "code",
      "execution_count": null,
      "id": "9f6c57b3",
      "metadata": {
        "id": "9f6c57b3",
        "outputId": "7225a580-78b4-4f66-b685-618da5a959c4"
      },
      "outputs": [
        {
          "data": {
            "text/html": [
              "<div>\n",
              "<style scoped>\n",
              "    .dataframe tbody tr th:only-of-type {\n",
              "        vertical-align: middle;\n",
              "    }\n",
              "\n",
              "    .dataframe tbody tr th {\n",
              "        vertical-align: top;\n",
              "    }\n",
              "\n",
              "    .dataframe thead th {\n",
              "        text-align: right;\n",
              "    }\n",
              "</style>\n",
              "<table border=\"1\" class=\"dataframe\">\n",
              "  <thead>\n",
              "    <tr style=\"text-align: right;\">\n",
              "      <th></th>\n",
              "      <th>Channel</th>\n",
              "      <th>Date</th>\n",
              "      <th>Ad Spend</th>\n",
              "      <th>Impressions</th>\n",
              "      <th>Clicks</th>\n",
              "      <th>Sales Transactions</th>\n",
              "      <th>Gross Profit</th>\n",
              "    </tr>\n",
              "  </thead>\n",
              "  <tbody>\n",
              "    <tr>\n",
              "      <th>0</th>\n",
              "      <td>Facebook</td>\n",
              "      <td>05/07/2021</td>\n",
              "      <td>720</td>\n",
              "      <td>13231</td>\n",
              "      <td>8</td>\n",
              "      <td>1</td>\n",
              "      <td>50</td>\n",
              "    </tr>\n",
              "    <tr>\n",
              "      <th>1</th>\n",
              "      <td>Google</td>\n",
              "      <td>05/07/2021</td>\n",
              "      <td>1328</td>\n",
              "      <td>22413</td>\n",
              "      <td>208</td>\n",
              "      <td>35</td>\n",
              "      <td>1750</td>\n",
              "    </tr>\n",
              "    <tr>\n",
              "      <th>2</th>\n",
              "      <td>LinkedIn</td>\n",
              "      <td>05/07/2021</td>\n",
              "      <td>1191</td>\n",
              "      <td>26744</td>\n",
              "      <td>121</td>\n",
              "      <td>8</td>\n",
              "      <td>500</td>\n",
              "    </tr>\n",
              "    <tr>\n",
              "      <th>3</th>\n",
              "      <td>Reddit</td>\n",
              "      <td>05/07/2021</td>\n",
              "      <td>139</td>\n",
              "      <td>3136</td>\n",
              "      <td>30</td>\n",
              "      <td>4</td>\n",
              "      <td>200</td>\n",
              "    </tr>\n",
              "    <tr>\n",
              "      <th>4</th>\n",
              "      <td>Facebook</td>\n",
              "      <td>06/07/2021</td>\n",
              "      <td>742</td>\n",
              "      <td>13093</td>\n",
              "      <td>10</td>\n",
              "      <td>1</td>\n",
              "      <td>50</td>\n",
              "    </tr>\n",
              "  </tbody>\n",
              "</table>\n",
              "</div>"
            ],
            "text/plain": [
              "    Channel        Date  Ad Spend  Impressions  Clicks  Sales Transactions  \\\n",
              "0  Facebook  05/07/2021       720        13231       8                   1   \n",
              "1    Google  05/07/2021      1328        22413     208                  35   \n",
              "2  LinkedIn  05/07/2021      1191        26744     121                   8   \n",
              "3    Reddit  05/07/2021       139         3136      30                   4   \n",
              "4  Facebook  06/07/2021       742        13093      10                   1   \n",
              "\n",
              "   Gross Profit  \n",
              "0            50  \n",
              "1          1750  \n",
              "2           500  \n",
              "3           200  \n",
              "4            50  "
            ]
          },
          "execution_count": 427,
          "metadata": {},
          "output_type": "execute_result"
        }
      ],
      "source": [
        "df.head()"
      ]
    },
    {
      "cell_type": "code",
      "execution_count": null,
      "id": "3cb26760",
      "metadata": {
        "id": "3cb26760",
        "outputId": "ee59ca3a-6714-4958-d7f9-3586944c5a50"
      },
      "outputs": [
        {
          "name": "stdout",
          "output_type": "stream",
          "text": [
            "<class 'pandas.core.frame.DataFrame'>\n",
            "RangeIndex: 448 entries, 0 to 447\n",
            "Data columns (total 7 columns):\n",
            " #   Column              Non-Null Count  Dtype \n",
            "---  ------              --------------  ----- \n",
            " 0   Channel             448 non-null    object\n",
            " 1   Date                448 non-null    object\n",
            " 2   Ad Spend            448 non-null    int32 \n",
            " 3   Impressions         448 non-null    int32 \n",
            " 4   Clicks              448 non-null    int64 \n",
            " 5   Sales Transactions  448 non-null    int64 \n",
            " 6   Gross Profit        448 non-null    int32 \n",
            "dtypes: int32(3), int64(2), object(2)\n",
            "memory usage: 19.4+ KB\n"
          ]
        }
      ],
      "source": [
        "df.info()"
      ]
    },
    {
      "cell_type": "markdown",
      "id": "69518cb3",
      "metadata": {
        "id": "69518cb3"
      },
      "source": [
        "- Conduct a descriptive analysis, including by channel, by (1) day, by (2) week, and by (3) month. Make initial conclusions accordingly. Note to use graphs in your analysis."
      ]
    },
    {
      "cell_type": "code",
      "execution_count": null,
      "id": "1bc0fc05",
      "metadata": {
        "scrolled": true,
        "id": "1bc0fc05",
        "outputId": "75e3e882-80ae-40ea-dc81-49c19decf282"
      },
      "outputs": [
        {
          "data": {
            "text/plain": [
              "0     2021-05-07\n",
              "1     2021-05-07\n",
              "2     2021-05-07\n",
              "3     2021-05-07\n",
              "4     2021-06-07\n",
              "         ...    \n",
              "443   2021-10-23\n",
              "444   2021-10-24\n",
              "445   2021-10-24\n",
              "446   2021-10-24\n",
              "447   2021-10-24\n",
              "Name: Date, Length: 448, dtype: datetime64[ns]"
            ]
          },
          "execution_count": 429,
          "metadata": {},
          "output_type": "execute_result"
        }
      ],
      "source": [
        "# Transforming the data column\n",
        "df['Date'] = pd.to_datetime(df['Date'])\n",
        "df['Date']"
      ]
    },
    {
      "cell_type": "code",
      "execution_count": null,
      "id": "434e6a9c",
      "metadata": {
        "scrolled": true,
        "id": "434e6a9c",
        "outputId": "2bc10a4c-6870-4696-a3d2-8efdc904207b"
      },
      "outputs": [
        {
          "data": {
            "text/html": [
              "<div>\n",
              "<style scoped>\n",
              "    .dataframe tbody tr th:only-of-type {\n",
              "        vertical-align: middle;\n",
              "    }\n",
              "\n",
              "    .dataframe tbody tr th {\n",
              "        vertical-align: top;\n",
              "    }\n",
              "\n",
              "    .dataframe thead th {\n",
              "        text-align: right;\n",
              "    }\n",
              "</style>\n",
              "<table border=\"1\" class=\"dataframe\">\n",
              "  <thead>\n",
              "    <tr style=\"text-align: right;\">\n",
              "      <th></th>\n",
              "      <th>Channel</th>\n",
              "      <th>Ad Spend</th>\n",
              "      <th>Impressions</th>\n",
              "      <th>Clicks</th>\n",
              "      <th>Sales Transactions</th>\n",
              "      <th>Gross Profit</th>\n",
              "    </tr>\n",
              "    <tr>\n",
              "      <th>Date</th>\n",
              "      <th></th>\n",
              "      <th></th>\n",
              "      <th></th>\n",
              "      <th></th>\n",
              "      <th></th>\n",
              "      <th></th>\n",
              "    </tr>\n",
              "  </thead>\n",
              "  <tbody>\n",
              "    <tr>\n",
              "      <th>2021-05-07</th>\n",
              "      <td>Facebook</td>\n",
              "      <td>720</td>\n",
              "      <td>13231</td>\n",
              "      <td>8</td>\n",
              "      <td>1</td>\n",
              "      <td>50</td>\n",
              "    </tr>\n",
              "    <tr>\n",
              "      <th>2021-05-07</th>\n",
              "      <td>Google</td>\n",
              "      <td>1328</td>\n",
              "      <td>22413</td>\n",
              "      <td>208</td>\n",
              "      <td>35</td>\n",
              "      <td>1750</td>\n",
              "    </tr>\n",
              "    <tr>\n",
              "      <th>2021-05-07</th>\n",
              "      <td>LinkedIn</td>\n",
              "      <td>1191</td>\n",
              "      <td>26744</td>\n",
              "      <td>121</td>\n",
              "      <td>8</td>\n",
              "      <td>500</td>\n",
              "    </tr>\n",
              "    <tr>\n",
              "      <th>2021-05-07</th>\n",
              "      <td>Reddit</td>\n",
              "      <td>139</td>\n",
              "      <td>3136</td>\n",
              "      <td>30</td>\n",
              "      <td>4</td>\n",
              "      <td>200</td>\n",
              "    </tr>\n",
              "    <tr>\n",
              "      <th>2021-06-07</th>\n",
              "      <td>Facebook</td>\n",
              "      <td>742</td>\n",
              "      <td>13093</td>\n",
              "      <td>10</td>\n",
              "      <td>1</td>\n",
              "      <td>50</td>\n",
              "    </tr>\n",
              "    <tr>\n",
              "      <th>...</th>\n",
              "      <td>...</td>\n",
              "      <td>...</td>\n",
              "      <td>...</td>\n",
              "      <td>...</td>\n",
              "      <td>...</td>\n",
              "      <td>...</td>\n",
              "    </tr>\n",
              "    <tr>\n",
              "      <th>2021-10-23</th>\n",
              "      <td>Reddit</td>\n",
              "      <td>153</td>\n",
              "      <td>2742</td>\n",
              "      <td>38</td>\n",
              "      <td>5</td>\n",
              "      <td>300</td>\n",
              "    </tr>\n",
              "    <tr>\n",
              "      <th>2021-10-24</th>\n",
              "      <td>Facebook</td>\n",
              "      <td>735</td>\n",
              "      <td>13381</td>\n",
              "      <td>220</td>\n",
              "      <td>35</td>\n",
              "      <td>1800</td>\n",
              "    </tr>\n",
              "    <tr>\n",
              "      <th>2021-10-24</th>\n",
              "      <td>Google</td>\n",
              "      <td>1508</td>\n",
              "      <td>25193</td>\n",
              "      <td>463</td>\n",
              "      <td>56</td>\n",
              "      <td>3100</td>\n",
              "    </tr>\n",
              "    <tr>\n",
              "      <th>2021-10-24</th>\n",
              "      <td>LinkedIn</td>\n",
              "      <td>1378</td>\n",
              "      <td>35838</td>\n",
              "      <td>425</td>\n",
              "      <td>24</td>\n",
              "      <td>1200</td>\n",
              "    </tr>\n",
              "    <tr>\n",
              "      <th>2021-10-24</th>\n",
              "      <td>Reddit</td>\n",
              "      <td>149</td>\n",
              "      <td>2827</td>\n",
              "      <td>45</td>\n",
              "      <td>4</td>\n",
              "      <td>300</td>\n",
              "    </tr>\n",
              "  </tbody>\n",
              "</table>\n",
              "<p>448 rows × 6 columns</p>\n",
              "</div>"
            ],
            "text/plain": [
              "             Channel  Ad Spend  Impressions  Clicks  Sales Transactions  \\\n",
              "Date                                                                      \n",
              "2021-05-07  Facebook       720        13231       8                   1   \n",
              "2021-05-07    Google      1328        22413     208                  35   \n",
              "2021-05-07  LinkedIn      1191        26744     121                   8   \n",
              "2021-05-07    Reddit       139         3136      30                   4   \n",
              "2021-06-07  Facebook       742        13093      10                   1   \n",
              "...              ...       ...          ...     ...                 ...   \n",
              "2021-10-23    Reddit       153         2742      38                   5   \n",
              "2021-10-24  Facebook       735        13381     220                  35   \n",
              "2021-10-24    Google      1508        25193     463                  56   \n",
              "2021-10-24  LinkedIn      1378        35838     425                  24   \n",
              "2021-10-24    Reddit       149         2827      45                   4   \n",
              "\n",
              "            Gross Profit  \n",
              "Date                      \n",
              "2021-05-07            50  \n",
              "2021-05-07          1750  \n",
              "2021-05-07           500  \n",
              "2021-05-07           200  \n",
              "2021-06-07            50  \n",
              "...                  ...  \n",
              "2021-10-23           300  \n",
              "2021-10-24          1800  \n",
              "2021-10-24          3100  \n",
              "2021-10-24          1200  \n",
              "2021-10-24           300  \n",
              "\n",
              "[448 rows x 6 columns]"
            ]
          },
          "execution_count": 430,
          "metadata": {},
          "output_type": "execute_result"
        }
      ],
      "source": [
        "# Indexing the date\n",
        "indexed_df = df.set_index('Date')\n",
        "indexed_df"
      ]
    },
    {
      "cell_type": "code",
      "execution_count": null,
      "id": "48e5f86b",
      "metadata": {
        "scrolled": true,
        "id": "48e5f86b",
        "outputId": "1d241663-8d0d-4aff-c80b-51137048c3f6"
      },
      "outputs": [
        {
          "data": {
            "text/plain": [
              "Text(0.5, 1.0, 'Profit gross margin by month')"
            ]
          },
          "execution_count": 431,
          "metadata": {},
          "output_type": "execute_result"
        },
        {
          "data": {
            "image/png": "[encoded data removed]",
            "text/plain": [
              "<Figure size 864x360 with 1 Axes>"
            ]
          },
          "metadata": {
            "needs_background": "light"
          },
          "output_type": "display_data"
        }
      ],
      "source": [
        "# Analysis by month\n",
        "fig, ax = plt.subplots(figsize=(12,5))\n",
        "plt.plot(indexed_df['Gross Profit'].resample('M').mean())\n",
        "plt.title('Profit gross margin by month')"
      ]
    },
    {
      "cell_type": "markdown",
      "id": "10c666b1",
      "metadata": {
        "id": "10c666b1"
      },
      "source": [
        "- In this graph we can see that the gross profit is higher between march and april and between october and november"
      ]
    },
    {
      "cell_type": "code",
      "execution_count": null,
      "id": "d9d26e02",
      "metadata": {
        "scrolled": true,
        "id": "d9d26e02",
        "outputId": "759ae742-dc19-4db7-c10c-bc7934fe5589"
      },
      "outputs": [
        {
          "data": {
            "text/plain": [
              "Text(0.5, 1.0, 'Gross profit by week')"
            ]
          },
          "execution_count": 432,
          "metadata": {},
          "output_type": "execute_result"
        },
        {
          "data": {
            "image/png": "[encoded data removed]",
            "text/plain": [
              "<Figure size 864x360 with 1 Axes>"
            ]
          },
          "metadata": {
            "needs_background": "light"
          },
          "output_type": "display_data"
        }
      ],
      "source": [
        "# Analysis by week\n",
        "fig, ax = plt.subplots(figsize=(12,5))\n",
        "sns.boxplot(indexed_df['Gross Profit'].index.week, indexed_df['Gross Profit'], ax=ax)\n",
        "plt.title('Gross profit by week')"
      ]
    },
    {
      "cell_type": "markdown",
      "id": "0c7ab21f",
      "metadata": {
        "id": "0c7ab21f"
      },
      "source": [
        "- The gross profit is higher in the week 37 and in the week 42."
      ]
    },
    {
      "cell_type": "code",
      "execution_count": null,
      "id": "c7f0c2ae",
      "metadata": {
        "scrolled": true,
        "id": "c7f0c2ae",
        "outputId": "024fe9b0-d44c-41a5-9cc7-5713b755b161"
      },
      "outputs": [
        {
          "data": {
            "text/plain": [
              "Text(0.5, 1.0, 'Gross profit by day of the month')"
            ]
          },
          "execution_count": 433,
          "metadata": {},
          "output_type": "execute_result"
        },
        {
          "data": {
            "image/png": "[encoded data removed]",
            "text/plain": [
              "<Figure size 864x360 with 1 Axes>"
            ]
          },
          "metadata": {
            "needs_background": "light"
          },
          "output_type": "display_data"
        }
      ],
      "source": [
        "# Analysis by day of the month\n",
        "fig, ax = plt.subplots(figsize=(12,5))\n",
        "sns.boxplot(indexed_df['Gross Profit'].index.day, indexed_df['Gross Profit'], ax=ax)\n",
        "plt.title('Gross profit by day of the month')"
      ]
    },
    {
      "cell_type": "markdown",
      "id": "80e0d6de",
      "metadata": {
        "id": "80e0d6de"
      },
      "source": [
        "- Looking deeply in each day, we can see that the median is higher between the day 22 to 24 of each month"
      ]
    },
    {
      "cell_type": "code",
      "execution_count": null,
      "id": "3bd596fe",
      "metadata": {
        "scrolled": false,
        "id": "3bd596fe",
        "outputId": "eed77086-2888-46ab-9a0b-67848f70c979"
      },
      "outputs": [
        {
          "data": {
            "text/plain": [
              "Text(0.5, 1.0, 'Gross profit by channel')"
            ]
          },
          "execution_count": 434,
          "metadata": {},
          "output_type": "execute_result"
        },
        {
          "data": {
            "image/png": "[encoded data removed]",
            "text/plain": [
              "<Figure size 864x360 with 1 Axes>"
            ]
          },
          "metadata": {
            "needs_background": "light"
          },
          "output_type": "display_data"
        }
      ],
      "source": [
        "# Analysis by channel:\n",
        "fig, ax = plt.subplots(figsize=(12,5))\n",
        "sns.boxplot(df['Channel'], df['Gross Profit'], ax=ax)\n",
        "plt.title('Gross profit by channel')"
      ]
    },
    {
      "cell_type": "markdown",
      "id": "45acb897",
      "metadata": {
        "id": "45acb897"
      },
      "source": [
        "- Performing the analysis based on channels, we can see that the gross margin received is much higher through Google than through the other channels"
      ]
    },
    {
      "cell_type": "markdown",
      "id": "c2e4f351",
      "metadata": {
        "id": "c2e4f351"
      },
      "source": [
        "- Conduct predictive analyses to predict gross profit for the next day, next week, and next month."
      ]
    },
    {
      "cell_type": "code",
      "execution_count": null,
      "id": "5e6134ce",
      "metadata": {
        "id": "5e6134ce"
      },
      "outputs": [],
      "source": [
        "df['day'] = df['Date'].dt.day\n",
        "df['month'] = df['Date'].dt.month\n",
        "df['year'] = df['Date'].dt.year"
      ]
    },
    {
      "cell_type": "code",
      "execution_count": null,
      "id": "0e5ab7bc",
      "metadata": {
        "id": "0e5ab7bc"
      },
      "outputs": [],
      "source": [
        "df = df.rename(columns = {'Gross Profit':'Gross_Profit', 'Sales Transactions':'Sales_Transactions'})"
      ]
    },
    {
      "cell_type": "code",
      "execution_count": null,
      "id": "456cc6a0",
      "metadata": {
        "id": "456cc6a0"
      },
      "outputs": [],
      "source": [
        "# Selecting the most important features of the dataframe through the Random Forest Technique\n",
        "from sklearn.ensemble import RandomForestRegressor\n",
        "from sklearn.preprocessing import OneHotEncoder"
      ]
    },
    {
      "cell_type": "code",
      "execution_count": null,
      "id": "a838f4ae",
      "metadata": {
        "id": "a838f4ae"
      },
      "outputs": [],
      "source": [
        "encoder = OneHotEncoder()"
      ]
    },
    {
      "cell_type": "code",
      "execution_count": null,
      "id": "21b530b4",
      "metadata": {
        "id": "21b530b4"
      },
      "outputs": [],
      "source": [
        "y_col = 'Gross_Profit'"
      ]
    },
    {
      "cell_type": "code",
      "execution_count": null,
      "id": "08f9ed45",
      "metadata": {
        "id": "08f9ed45"
      },
      "outputs": [],
      "source": [
        "y = df[y_col]"
      ]
    },
    {
      "cell_type": "code",
      "execution_count": null,
      "id": "5b8d7250",
      "metadata": {
        "id": "5b8d7250"
      },
      "outputs": [],
      "source": [
        "X_categorical = df.select_dtypes(include=['object'])"
      ]
    },
    {
      "cell_type": "code",
      "execution_count": null,
      "id": "a163c408",
      "metadata": {
        "id": "a163c408"
      },
      "outputs": [],
      "source": [
        "X_numerical = df.select_dtypes(include=['int64', 'float64'])"
      ]
    },
    {
      "cell_type": "code",
      "execution_count": null,
      "id": "f2b65bce",
      "metadata": {
        "id": "f2b65bce"
      },
      "outputs": [],
      "source": [
        "X_encoded = encoder.fit_transform(X_categorical)"
      ]
    },
    {
      "cell_type": "code",
      "execution_count": null,
      "id": "2b5f376a",
      "metadata": {
        "id": "2b5f376a"
      },
      "outputs": [],
      "source": [
        "X = np.concatenate((X_numerical, X_encoded.toarray()), axis=1)"
      ]
    },
    {
      "cell_type": "code",
      "execution_count": null,
      "id": "2ae5e2a6",
      "metadata": {
        "id": "2ae5e2a6"
      },
      "outputs": [],
      "source": [
        "X = pd.DataFrame(X, columns=list(X_numerical.columns) + list(encoder.get_feature_names(X_categorical.columns)))"
      ]
    },
    {
      "cell_type": "code",
      "execution_count": null,
      "id": "1d3d293f",
      "metadata": {
        "id": "1d3d293f"
      },
      "outputs": [],
      "source": [
        "forest = RandomForestRegressor(n_estimators = 510, random_state = 1)"
      ]
    },
    {
      "cell_type": "code",
      "execution_count": null,
      "id": "f958e636",
      "metadata": {
        "id": "f958e636",
        "outputId": "87b4db4f-16dd-4554-b12a-7bb92989109d"
      },
      "outputs": [
        {
          "data": {
            "text/plain": [
              "RandomForestRegressor(n_estimators=510, random_state=1)"
            ]
          },
          "execution_count": 447,
          "metadata": {},
          "output_type": "execute_result"
        }
      ],
      "source": [
        "forest.fit(X, y)"
      ]
    },
    {
      "cell_type": "code",
      "execution_count": null,
      "id": "7a31099f",
      "metadata": {
        "id": "7a31099f",
        "outputId": "870802c0-f810-429d-ef7e-005e75434dd3"
      },
      "outputs": [
        {
          "data": {
            "text/html": [
              "<div>\n",
              "<style scoped>\n",
              "    .dataframe tbody tr th:only-of-type {\n",
              "        vertical-align: middle;\n",
              "    }\n",
              "\n",
              "    .dataframe tbody tr th {\n",
              "        vertical-align: top;\n",
              "    }\n",
              "\n",
              "    .dataframe thead th {\n",
              "        text-align: right;\n",
              "    }\n",
              "</style>\n",
              "<table border=\"1\" class=\"dataframe\">\n",
              "  <thead>\n",
              "    <tr style=\"text-align: right;\">\n",
              "      <th></th>\n",
              "      <th>feature</th>\n",
              "      <th>importance</th>\n",
              "    </tr>\n",
              "  </thead>\n",
              "  <tbody>\n",
              "    <tr>\n",
              "      <th>1</th>\n",
              "      <td>Sales_Transactions</td>\n",
              "      <td>0.982921</td>\n",
              "    </tr>\n",
              "    <tr>\n",
              "      <th>0</th>\n",
              "      <td>Clicks</td>\n",
              "      <td>0.010882</td>\n",
              "    </tr>\n",
              "    <tr>\n",
              "      <th>2</th>\n",
              "      <td>day</td>\n",
              "      <td>0.003405</td>\n",
              "    </tr>\n",
              "    <tr>\n",
              "      <th>3</th>\n",
              "      <td>month</td>\n",
              "      <td>0.002376</td>\n",
              "    </tr>\n",
              "    <tr>\n",
              "      <th>6</th>\n",
              "      <td>Channel_Google</td>\n",
              "      <td>0.000171</td>\n",
              "    </tr>\n",
              "    <tr>\n",
              "      <th>5</th>\n",
              "      <td>Channel_Facebook</td>\n",
              "      <td>0.000115</td>\n",
              "    </tr>\n",
              "    <tr>\n",
              "      <th>7</th>\n",
              "      <td>Channel_LinkedIn</td>\n",
              "      <td>0.000106</td>\n",
              "    </tr>\n",
              "    <tr>\n",
              "      <th>8</th>\n",
              "      <td>Channel_Reddit</td>\n",
              "      <td>0.000024</td>\n",
              "    </tr>\n",
              "    <tr>\n",
              "      <th>4</th>\n",
              "      <td>year</td>\n",
              "      <td>0.000000</td>\n",
              "    </tr>\n",
              "  </tbody>\n",
              "</table>\n",
              "</div>"
            ],
            "text/plain": [
              "              feature  importance\n",
              "1  Sales_Transactions    0.982921\n",
              "0              Clicks    0.010882\n",
              "2                 day    0.003405\n",
              "3               month    0.002376\n",
              "6      Channel_Google    0.000171\n",
              "5    Channel_Facebook    0.000115\n",
              "7    Channel_LinkedIn    0.000106\n",
              "8      Channel_Reddit    0.000024\n",
              "4                year    0.000000"
            ]
          },
          "execution_count": 448,
          "metadata": {},
          "output_type": "execute_result"
        }
      ],
      "source": [
        "rf_feature_importance = pd.DataFrame({'feature': X.columns, 'importance': forest.feature_importances_})\n",
        "rf_feature_importance.sort_values(by = 'importance', ascending = False)"
      ]
    },
    {
      "cell_type": "code",
      "execution_count": null,
      "id": "99d48f1a",
      "metadata": {
        "id": "99d48f1a",
        "outputId": "6d46bee6-2ffa-4a61-e536-e9bf0eab371d"
      },
      "outputs": [
        {
          "data": {
            "text/plain": [
              "['Clicks', 'Sales_Transactions', 'day', 'month']"
            ]
          },
          "execution_count": 449,
          "metadata": {},
          "output_type": "execute_result"
        }
      ],
      "source": [
        "# filtering out features with importance < 0.001\n",
        "rf_features_to_use = rf_feature_importance[rf_feature_importance['importance'] >= 0.001]['feature'].to_list()\n",
        "rf_features_to_use"
      ]
    },
    {
      "cell_type": "markdown",
      "id": "3de73e11",
      "metadata": {
        "id": "3de73e11"
      },
      "source": [
        "- Creating the model based on the important variables of Random Forest"
      ]
    },
    {
      "cell_type": "code",
      "execution_count": null,
      "id": "5488856b",
      "metadata": {
        "id": "5488856b",
        "outputId": "6f6afff4-fe23-4e9d-967c-82adac875c5e"
      },
      "outputs": [
        {
          "data": {
            "text/plain": [
              "LinearRegression()"
            ]
          },
          "execution_count": 450,
          "metadata": {},
          "output_type": "execute_result"
        }
      ],
      "source": [
        "mlr_model = LinearRegression()\n",
        "mlr_model.fit(df[['Clicks', 'Sales_Transactions', 'day', 'month']], df['Gross_Profit'])"
      ]
    },
    {
      "cell_type": "code",
      "execution_count": null,
      "id": "fc9c10e9",
      "metadata": {
        "id": "fc9c10e9"
      },
      "outputs": [],
      "source": [
        "# Creating the predicted mpg variable and the error variable in the dataset\n",
        "df['price_predicted']  = mlr_model.predict(df[['Clicks', 'Sales_Transactions', 'day', 'month']])\n",
        "df['error'] = (df['price_predicted'] - df['Gross_Profit'])**2"
      ]
    },
    {
      "cell_type": "code",
      "execution_count": null,
      "id": "54832d35",
      "metadata": {
        "id": "54832d35",
        "outputId": "2629a10d-2ce5-4bc6-be77-4388632762fb"
      },
      "outputs": [
        {
          "data": {
            "text/plain": [
              "15580.626587498755"
            ]
          },
          "execution_count": 452,
          "metadata": {},
          "output_type": "execute_result"
        }
      ],
      "source": [
        "# Calculating the Mean Squared Error (MSE) of the model\n",
        "MSE_mlr = df['error'].mean()\n",
        "MSE_mlr"
      ]
    },
    {
      "cell_type": "code",
      "execution_count": null,
      "id": "b47e2e54",
      "metadata": {
        "id": "b47e2e54",
        "outputId": "6af48a28-e971-4fff-9333-8f4bccaf27aa"
      },
      "outputs": [
        {
          "data": {
            "text/plain": [
              "0.9831304003017914"
            ]
          },
          "execution_count": 453,
          "metadata": {},
          "output_type": "execute_result"
        }
      ],
      "source": [
        "mlr_Rsq = mlr_model.score(df[['Clicks', 'Sales_Transactions', 'day', 'month']], df['Gross_Profit'])\n",
        "mlr_Rsq"
      ]
    },
    {
      "cell_type": "code",
      "execution_count": null,
      "id": "ca0c90ff",
      "metadata": {
        "scrolled": true,
        "id": "ca0c90ff",
        "outputId": "7b9a66ed-c39c-47cb-a78c-92668d0bd010"
      },
      "outputs": [
        {
          "name": "stdout",
          "output_type": "stream",
          "text": [
            "                            OLS Regression Results                            \n",
            "==============================================================================\n",
            "Dep. Variable:           Gross_Profit   R-squared:                       0.983\n",
            "Model:                            OLS   Adj. R-squared:                  0.983\n",
            "Method:                 Least Squares   F-statistic:                     6454.\n",
            "Date:                Tue, 11 Apr 2023   Prob (F-statistic):               0.00\n",
            "Time:                        21:09:45   Log-Likelihood:                -2798.1\n",
            "No. Observations:                 448   AIC:                             5606.\n",
            "Df Residuals:                     443   BIC:                             5627.\n",
            "Df Model:                           4                                         \n",
            "Covariance Type:            nonrobust                                         \n",
            "======================================================================================\n",
            "                         coef    std err          t      P>|t|      [0.025      0.975]\n",
            "--------------------------------------------------------------------------------------\n",
            "Intercept             44.7188     23.496      1.903      0.058      -1.458      90.896\n",
            "Clicks                -0.0475      0.089     -0.532      0.595      -0.223       0.128\n",
            "Sales_Transactions    55.4054      0.641     86.455      0.000      54.146      56.665\n",
            "day                    0.1157      0.815      0.142      0.887      -1.486       1.717\n",
            "month                 -0.8331      2.547     -0.327      0.744      -5.839       4.173\n",
            "==============================================================================\n",
            "Omnibus:                       60.556   Durbin-Watson:                   2.096\n",
            "Prob(Omnibus):                  0.000   Jarque-Bera (JB):              304.535\n",
            "Skew:                           0.437   Prob(JB):                     7.43e-67\n",
            "Kurtosis:                       6.943   Cond. No.                         819.\n",
            "==============================================================================\n",
            "\n",
            "Notes:\n",
            "[1] Standard Errors assume that the covariance matrix of the errors is correctly specified.\n"
          ]
        }
      ],
      "source": [
        "# Detailed information of the MLR model:\n",
        "\n",
        "mlr = smf.ols(formula = 'Gross_Profit ~ Clicks +Sales_Transactions+day +month', data = df).fit()\n",
        "mlr.params\n",
        "print(mlr.summary())"
      ]
    },
    {
      "cell_type": "markdown",
      "id": "df449cbe",
      "metadata": {
        "id": "df449cbe"
      },
      "source": [
        "---> Multiple Linear Regression Model results:\n",
        "\n",
        "The p- values with the lowest statistical significance are day (0.887), followed by month (0.744) and clicks (0.0.595)\n",
        "The R-square of the Multiple Linear Regression Model is 0.98."
      ]
    },
    {
      "cell_type": "code",
      "execution_count": null,
      "id": "32a77849",
      "metadata": {
        "id": "32a77849",
        "outputId": "2f1ce89a-b9aa-4343-bfdd-7b7215fa5c77"
      },
      "outputs": [
        {
          "data": {
            "text/plain": [
              "Index(['Channel', 'Date', 'Ad Spend', 'Impressions', 'Clicks',\n",
              "       'Sales_Transactions', 'Gross_Profit', 'day', 'month', 'year',\n",
              "       'price_predicted', 'error'],\n",
              "      dtype='object')"
            ]
          },
          "execution_count": 455,
          "metadata": {},
          "output_type": "execute_result"
        }
      ],
      "source": [
        "# Splitting the data\n",
        "df.columns"
      ]
    },
    {
      "cell_type": "code",
      "execution_count": null,
      "id": "3abfeeed",
      "metadata": {
        "id": "3abfeeed"
      },
      "outputs": [],
      "source": [
        "# Deleting the features created\n",
        "df.drop(columns = [\"error\", \"price_predicted\"], inplace = True)"
      ]
    },
    {
      "cell_type": "code",
      "execution_count": null,
      "id": "5544b43e",
      "metadata": {
        "id": "5544b43e",
        "outputId": "a2185766-2493-4078-f01f-851da4db712a"
      },
      "outputs": [
        {
          "data": {
            "text/html": [
              "<div>\n",
              "<style scoped>\n",
              "    .dataframe tbody tr th:only-of-type {\n",
              "        vertical-align: middle;\n",
              "    }\n",
              "\n",
              "    .dataframe tbody tr th {\n",
              "        vertical-align: top;\n",
              "    }\n",
              "\n",
              "    .dataframe thead th {\n",
              "        text-align: right;\n",
              "    }\n",
              "</style>\n",
              "<table border=\"1\" class=\"dataframe\">\n",
              "  <thead>\n",
              "    <tr style=\"text-align: right;\">\n",
              "      <th></th>\n",
              "      <th>Channel</th>\n",
              "      <th>Date</th>\n",
              "      <th>Ad Spend</th>\n",
              "      <th>Impressions</th>\n",
              "      <th>Clicks</th>\n",
              "      <th>Sales_Transactions</th>\n",
              "      <th>Gross_Profit</th>\n",
              "      <th>day</th>\n",
              "      <th>month</th>\n",
              "      <th>year</th>\n",
              "    </tr>\n",
              "  </thead>\n",
              "  <tbody>\n",
              "    <tr>\n",
              "      <th>0</th>\n",
              "      <td>Facebook</td>\n",
              "      <td>2021-05-07</td>\n",
              "      <td>720</td>\n",
              "      <td>13231</td>\n",
              "      <td>8</td>\n",
              "      <td>1</td>\n",
              "      <td>50</td>\n",
              "      <td>7</td>\n",
              "      <td>5</td>\n",
              "      <td>2021</td>\n",
              "    </tr>\n",
              "    <tr>\n",
              "      <th>1</th>\n",
              "      <td>Google</td>\n",
              "      <td>2021-05-07</td>\n",
              "      <td>1328</td>\n",
              "      <td>22413</td>\n",
              "      <td>208</td>\n",
              "      <td>35</td>\n",
              "      <td>1750</td>\n",
              "      <td>7</td>\n",
              "      <td>5</td>\n",
              "      <td>2021</td>\n",
              "    </tr>\n",
              "    <tr>\n",
              "      <th>2</th>\n",
              "      <td>LinkedIn</td>\n",
              "      <td>2021-05-07</td>\n",
              "      <td>1191</td>\n",
              "      <td>26744</td>\n",
              "      <td>121</td>\n",
              "      <td>8</td>\n",
              "      <td>500</td>\n",
              "      <td>7</td>\n",
              "      <td>5</td>\n",
              "      <td>2021</td>\n",
              "    </tr>\n",
              "    <tr>\n",
              "      <th>3</th>\n",
              "      <td>Reddit</td>\n",
              "      <td>2021-05-07</td>\n",
              "      <td>139</td>\n",
              "      <td>3136</td>\n",
              "      <td>30</td>\n",
              "      <td>4</td>\n",
              "      <td>200</td>\n",
              "      <td>7</td>\n",
              "      <td>5</td>\n",
              "      <td>2021</td>\n",
              "    </tr>\n",
              "    <tr>\n",
              "      <th>4</th>\n",
              "      <td>Facebook</td>\n",
              "      <td>2021-06-07</td>\n",
              "      <td>742</td>\n",
              "      <td>13093</td>\n",
              "      <td>10</td>\n",
              "      <td>1</td>\n",
              "      <td>50</td>\n",
              "      <td>7</td>\n",
              "      <td>6</td>\n",
              "      <td>2021</td>\n",
              "    </tr>\n",
              "  </tbody>\n",
              "</table>\n",
              "</div>"
            ],
            "text/plain": [
              "    Channel       Date  Ad Spend  Impressions  Clicks  Sales_Transactions  \\\n",
              "0  Facebook 2021-05-07       720        13231       8                   1   \n",
              "1    Google 2021-05-07      1328        22413     208                  35   \n",
              "2  LinkedIn 2021-05-07      1191        26744     121                   8   \n",
              "3    Reddit 2021-05-07       139         3136      30                   4   \n",
              "4  Facebook 2021-06-07       742        13093      10                   1   \n",
              "\n",
              "   Gross_Profit  day  month  year  \n",
              "0            50    7      5  2021  \n",
              "1          1750    7      5  2021  \n",
              "2           500    7      5  2021  \n",
              "3           200    7      5  2021  \n",
              "4            50    7      6  2021  "
            ]
          },
          "execution_count": 457,
          "metadata": {},
          "output_type": "execute_result"
        }
      ],
      "source": [
        "df.head()"
      ]
    },
    {
      "cell_type": "code",
      "execution_count": null,
      "id": "39cd4d7d",
      "metadata": {
        "id": "39cd4d7d"
      },
      "outputs": [],
      "source": [
        "xbase = df[['Clicks', 'Sales_Transactions', 'day', 'month']]\n",
        "y = df[['Gross_Profit']]"
      ]
    },
    {
      "cell_type": "code",
      "execution_count": null,
      "id": "a285517c",
      "metadata": {
        "id": "a285517c"
      },
      "outputs": [],
      "source": [
        "xbase_train, xbase_test, y_train, y_test = train_test_split(xbase, y, random_state = 101, train_size = 0.80)"
      ]
    },
    {
      "cell_type": "code",
      "execution_count": null,
      "id": "89705c1e",
      "metadata": {
        "id": "89705c1e",
        "outputId": "7da7bd20-73fc-4a40-b3b8-b7d25b2792cb"
      },
      "outputs": [
        {
          "data": {
            "text/plain": [
              "((358, 4), (90, 4), (358, 1), (90, 1))"
            ]
          },
          "execution_count": 463,
          "metadata": {},
          "output_type": "execute_result"
        }
      ],
      "source": [
        "# Validating the shape:\n",
        "xbase_train.shape, xbase_test.shape, y_train.shape, y_test.shape"
      ]
    },
    {
      "cell_type": "code",
      "execution_count": null,
      "id": "3810ed60",
      "metadata": {
        "id": "3810ed60",
        "outputId": "c43daaa4-416d-4193-f6be-5aba4c9d5558"
      },
      "outputs": [
        {
          "data": {
            "text/html": [
              "<div>\n",
              "<style scoped>\n",
              "    .dataframe tbody tr th:only-of-type {\n",
              "        vertical-align: middle;\n",
              "    }\n",
              "\n",
              "    .dataframe tbody tr th {\n",
              "        vertical-align: top;\n",
              "    }\n",
              "\n",
              "    .dataframe thead th {\n",
              "        text-align: right;\n",
              "    }\n",
              "</style>\n",
              "<table border=\"1\" class=\"dataframe\">\n",
              "  <thead>\n",
              "    <tr style=\"text-align: right;\">\n",
              "      <th></th>\n",
              "      <th>Clicks</th>\n",
              "      <th>Sales_Transactions</th>\n",
              "      <th>day</th>\n",
              "      <th>month</th>\n",
              "    </tr>\n",
              "  </thead>\n",
              "  <tbody>\n",
              "    <tr>\n",
              "      <th>64</th>\n",
              "      <td>27</td>\n",
              "      <td>4</td>\n",
              "      <td>21</td>\n",
              "      <td>7</td>\n",
              "    </tr>\n",
              "    <tr>\n",
              "      <th>194</th>\n",
              "      <td>273</td>\n",
              "      <td>16</td>\n",
              "      <td>22</td>\n",
              "      <td>8</td>\n",
              "    </tr>\n",
              "    <tr>\n",
              "      <th>447</th>\n",
              "      <td>45</td>\n",
              "      <td>4</td>\n",
              "      <td>24</td>\n",
              "      <td>10</td>\n",
              "    </tr>\n",
              "    <tr>\n",
              "      <th>288</th>\n",
              "      <td>66</td>\n",
              "      <td>9</td>\n",
              "      <td>15</td>\n",
              "      <td>9</td>\n",
              "    </tr>\n",
              "    <tr>\n",
              "      <th>143</th>\n",
              "      <td>31</td>\n",
              "      <td>3</td>\n",
              "      <td>8</td>\n",
              "      <td>9</td>\n",
              "    </tr>\n",
              "  </tbody>\n",
              "</table>\n",
              "</div>"
            ],
            "text/plain": [
              "     Clicks  Sales_Transactions  day  month\n",
              "64       27                   4   21      7\n",
              "194     273                  16   22      8\n",
              "447      45                   4   24     10\n",
              "288      66                   9   15      9\n",
              "143      31                   3    8      9"
            ]
          },
          "execution_count": 464,
          "metadata": {},
          "output_type": "execute_result"
        }
      ],
      "source": [
        "xbase_train.head()"
      ]
    },
    {
      "cell_type": "code",
      "execution_count": null,
      "id": "bc528946",
      "metadata": {
        "id": "bc528946",
        "outputId": "504cf1c7-6569-497d-8393-0ef927ff89f7"
      },
      "outputs": [
        {
          "data": {
            "text/plain": [
              "LinearRegression()"
            ]
          },
          "execution_count": 465,
          "metadata": {},
          "output_type": "execute_result"
        }
      ],
      "source": [
        "#Checking the performance:\n",
        "mlr_model = LinearRegression()\n",
        "mlr_model.fit(xbase_train, y_train)"
      ]
    },
    {
      "cell_type": "code",
      "execution_count": null,
      "id": "fcb6f4ae",
      "metadata": {
        "id": "fcb6f4ae"
      },
      "outputs": [],
      "source": [
        "y_pred_train = mlr_model.predict(xbase_train)"
      ]
    },
    {
      "cell_type": "code",
      "execution_count": null,
      "id": "68b7e9c9",
      "metadata": {
        "id": "68b7e9c9",
        "outputId": "9bbbfabe-9c59-483e-a2a6-ae2c04cd1ebe"
      },
      "outputs": [
        {
          "data": {
            "text/html": [
              "<div>\n",
              "<style scoped>\n",
              "    .dataframe tbody tr th:only-of-type {\n",
              "        vertical-align: middle;\n",
              "    }\n",
              "\n",
              "    .dataframe tbody tr th {\n",
              "        vertical-align: top;\n",
              "    }\n",
              "\n",
              "    .dataframe thead th {\n",
              "        text-align: right;\n",
              "    }\n",
              "</style>\n",
              "<table border=\"1\" class=\"dataframe\">\n",
              "  <thead>\n",
              "    <tr style=\"text-align: right;\">\n",
              "      <th></th>\n",
              "      <th>Clicks</th>\n",
              "      <th>Sales_Transactions</th>\n",
              "      <th>day</th>\n",
              "      <th>month</th>\n",
              "      <th>y_pred</th>\n",
              "    </tr>\n",
              "  </thead>\n",
              "  <tbody>\n",
              "    <tr>\n",
              "      <th>12</th>\n",
              "      <td>10</td>\n",
              "      <td>1</td>\n",
              "      <td>7</td>\n",
              "      <td>8</td>\n",
              "      <td>94.805489</td>\n",
              "    </tr>\n",
              "    <tr>\n",
              "      <th>19</th>\n",
              "      <td>48</td>\n",
              "      <td>5</td>\n",
              "      <td>7</td>\n",
              "      <td>9</td>\n",
              "      <td>314.425349</td>\n",
              "    </tr>\n",
              "    <tr>\n",
              "      <th>259</th>\n",
              "      <td>31</td>\n",
              "      <td>4</td>\n",
              "      <td>9</td>\n",
              "      <td>7</td>\n",
              "      <td>259.076891</td>\n",
              "    </tr>\n",
              "    <tr>\n",
              "      <th>289</th>\n",
              "      <td>245</td>\n",
              "      <td>38</td>\n",
              "      <td>15</td>\n",
              "      <td>9</td>\n",
              "      <td>2126.511098</td>\n",
              "    </tr>\n",
              "    <tr>\n",
              "      <th>181</th>\n",
              "      <td>230</td>\n",
              "      <td>39</td>\n",
              "      <td>19</td>\n",
              "      <td>8</td>\n",
              "      <td>2181.608511</td>\n",
              "    </tr>\n",
              "  </tbody>\n",
              "</table>\n",
              "</div>"
            ],
            "text/plain": [
              "     Clicks  Sales_Transactions  day  month       y_pred\n",
              "12       10                   1    7      8    94.805489\n",
              "19       48                   5    7      9   314.425349\n",
              "259      31                   4    9      7   259.076891\n",
              "289     245                  38   15      9  2126.511098\n",
              "181     230                  39   19      8  2181.608511"
            ]
          },
          "execution_count": 467,
          "metadata": {},
          "output_type": "execute_result"
        }
      ],
      "source": [
        "y_pred = mlr_model.predict(xbase_test)\n",
        "xbase_test['y_pred'] = y_pred\n",
        "xbase_test.head()"
      ]
    },
    {
      "cell_type": "code",
      "execution_count": null,
      "id": "52f4fe51",
      "metadata": {
        "id": "52f4fe51",
        "outputId": "aea0b10c-53cf-4a44-eba9-d04a7a4e908a"
      },
      "outputs": [
        {
          "data": {
            "text/plain": [
              "(358, 1)"
            ]
          },
          "execution_count": 468,
          "metadata": {},
          "output_type": "execute_result"
        }
      ],
      "source": [
        "y_train.shape"
      ]
    },
    {
      "cell_type": "code",
      "execution_count": null,
      "id": "6d55b344",
      "metadata": {
        "id": "6d55b344"
      },
      "outputs": [],
      "source": [
        "xbase_test = xbase_test.drop(['y_pred'], axis = 1)"
      ]
    },
    {
      "cell_type": "code",
      "execution_count": null,
      "id": "a1df730a",
      "metadata": {
        "id": "a1df730a",
        "outputId": "cb1b336c-72b9-4f31-bc6f-c2e7f3094450"
      },
      "outputs": [
        {
          "name": "stdout",
          "output_type": "stream",
          "text": [
            "Mean Absolute Error (MAE): 85.64998139230838\n",
            "Mean Squared Error (MSE): 16519.557090232087\n",
            "Root Mean Squared Error (RMSE): 128.52842911290904\n",
            "R-Squared: 0.9823920731621792\n"
          ]
        }
      ],
      "source": [
        "print('Mean Absolute Error (MAE):', metrics.mean_absolute_error(y_train, y_pred_train))\n",
        "print('Mean Squared Error (MSE):', metrics.mean_squared_error(y_train, y_pred_train))\n",
        "print('Root Mean Squared Error (RMSE):', np.sqrt(metrics.mean_squared_error(y_train, y_pred_train)))\n",
        "print(\"R-Squared:\", mlr_model.score(xbase_train, y_train))"
      ]
    },
    {
      "cell_type": "code",
      "execution_count": null,
      "id": "64a9479d",
      "metadata": {
        "scrolled": false,
        "id": "64a9479d",
        "outputId": "f88e7da7-8637-4ee9-a29b-a84ec66cd349"
      },
      "outputs": [
        {
          "name": "stdout",
          "output_type": "stream",
          "text": [
            "Mean Absolute Error (MAE): 75.90338384502736\n",
            "Mean Squared Error (MSE): 12003.181322693272\n",
            "Root Mean Squared Error (RMSE): 109.55903122378032\n",
            "R-Squared: 0.9860488006563626\n"
          ]
        }
      ],
      "source": [
        "print('Mean Absolute Error (MAE):', metrics.mean_absolute_error(y_test, y_pred))\n",
        "print('Mean Squared Error (MSE):', metrics.mean_squared_error(y_test, y_pred))\n",
        "print('Root Mean Squared Error (RMSE):', np.sqrt(metrics.mean_squared_error(y_test, y_pred)))\n",
        "print(\"R-Squared:\", mlr_model.score(xbase_test, y_test))"
      ]
    },
    {
      "cell_type": "markdown",
      "id": "b1ebee22",
      "metadata": {
        "id": "b1ebee22"
      },
      "source": [
        "---> Checking the performance of the Multiple Linear Model on the train vs the test, we can see that the model performed a little bit better in the test but it is overfitted, reason why the model needs to be regularized, so we will apply the Lasso technique:"
      ]
    },
    {
      "cell_type": "code",
      "execution_count": null,
      "id": "a6d0baed",
      "metadata": {
        "id": "a6d0baed",
        "outputId": "c84d4536-c583-4fe1-c4c6-5fc8f2acc0fb"
      },
      "outputs": [
        {
          "data": {
            "text/plain": [
              "Lasso(alpha=0.1)"
            ]
          },
          "execution_count": 477,
          "metadata": {},
          "output_type": "execute_result"
        }
      ],
      "source": [
        "lasso = Lasso(alpha = 0.1)\n",
        "lasso.fit(xbase_train, y_train)"
      ]
    },
    {
      "cell_type": "code",
      "execution_count": null,
      "id": "f386192f",
      "metadata": {
        "id": "f386192f"
      },
      "outputs": [],
      "source": [
        "ypred_lasso = lasso.predict(xbase_test)"
      ]
    },
    {
      "cell_type": "code",
      "execution_count": null,
      "id": "7346d8e7",
      "metadata": {
        "id": "7346d8e7",
        "outputId": "561ac36c-b185-4911-b125-30b387990f5b"
      },
      "outputs": [
        {
          "name": "stdout",
          "output_type": "stream",
          "text": [
            "Mean Absolute Error (MAE): 75.89890544320505\n",
            "Mean Squared Error (MSE): 12002.203925006608\n",
            "Root Mean Squared Error (RMSE): 109.55457053453593\n",
            "R-Squared: 0.9823920707001983\n"
          ]
        }
      ],
      "source": [
        "print('Mean Absolute Error (MAE):', metrics.mean_absolute_error(y_test, ypred_lasso))\n",
        "print('Mean Squared Error (MSE):', metrics.mean_squared_error(y_test, ypred_lasso))\n",
        "print('Root Mean Squared Error (RMSE):', np.sqrt(metrics.mean_squared_error(y_test, ypred_lasso)))\n",
        "print(\"R-Squared:\", lasso.score(xbase_train, y_train))"
      ]
    },
    {
      "cell_type": "markdown",
      "id": "9d2a0bbf",
      "metadata": {
        "id": "9d2a0bbf"
      },
      "source": [
        "The regularization did not generate a significant change in the model performance, reason why for further analysis we will need to check if between the variables there is multicollinearity that is affecting the overall performance."
      ]
    },
    {
      "cell_type": "markdown",
      "id": "32026606",
      "metadata": {
        "id": "32026606"
      },
      "source": [
        "- Conduct analysis of variance by channel, by day, by week and by month to find out which channel gives high sales and profit."
      ]
    },
    {
      "cell_type": "code",
      "execution_count": null,
      "id": "0f986c20",
      "metadata": {
        "id": "0f986c20"
      },
      "outputs": [],
      "source": [
        "to_cat = ['day', 'month', 'year']"
      ]
    },
    {
      "cell_type": "code",
      "execution_count": null,
      "id": "633589a3",
      "metadata": {
        "id": "633589a3"
      },
      "outputs": [],
      "source": [
        "for x in to_cat:\n",
        "    df[x] = df[x].astype('category', copy = False)"
      ]
    },
    {
      "cell_type": "code",
      "execution_count": null,
      "id": "4de55e03",
      "metadata": {
        "id": "4de55e03",
        "outputId": "32deda28-666e-4fcb-b779-ad1f88b8bd2f"
      },
      "outputs": [
        {
          "data": {
            "text/html": [
              "<div>\n",
              "<style scoped>\n",
              "    .dataframe tbody tr th:only-of-type {\n",
              "        vertical-align: middle;\n",
              "    }\n",
              "\n",
              "    .dataframe tbody tr th {\n",
              "        vertical-align: top;\n",
              "    }\n",
              "\n",
              "    .dataframe thead th {\n",
              "        text-align: right;\n",
              "    }\n",
              "</style>\n",
              "<table border=\"1\" class=\"dataframe\">\n",
              "  <thead>\n",
              "    <tr style=\"text-align: right;\">\n",
              "      <th></th>\n",
              "      <th>sum_sq</th>\n",
              "      <th>df</th>\n",
              "      <th>F</th>\n",
              "      <th>PR(&gt;F)</th>\n",
              "    </tr>\n",
              "  </thead>\n",
              "  <tbody>\n",
              "    <tr>\n",
              "      <th>Channel:day</th>\n",
              "      <td>3.482935e+08</td>\n",
              "      <td>91.0</td>\n",
              "      <td>20.810072</td>\n",
              "      <td>2.235705e-99</td>\n",
              "    </tr>\n",
              "    <tr>\n",
              "      <th>Residual</th>\n",
              "      <td>6.547573e+07</td>\n",
              "      <td>356.0</td>\n",
              "      <td>NaN</td>\n",
              "      <td>NaN</td>\n",
              "    </tr>\n",
              "    <tr>\n",
              "      <th>Channel:month</th>\n",
              "      <td>3.506585e+08</td>\n",
              "      <td>47.0</td>\n",
              "      <td>47.287170</td>\n",
              "      <td>4.548124e-135</td>\n",
              "    </tr>\n",
              "    <tr>\n",
              "      <th>Residual</th>\n",
              "      <td>6.311072e+07</td>\n",
              "      <td>400.0</td>\n",
              "      <td>NaN</td>\n",
              "      <td>NaN</td>\n",
              "    </tr>\n",
              "    <tr>\n",
              "      <th>Channel:year</th>\n",
              "      <td>3.297413e+08</td>\n",
              "      <td>3.0</td>\n",
              "      <td>580.779843</td>\n",
              "      <td>3.013216e-153</td>\n",
              "    </tr>\n",
              "    <tr>\n",
              "      <th>Residual</th>\n",
              "      <td>8.402790e+07</td>\n",
              "      <td>444.0</td>\n",
              "      <td>NaN</td>\n",
              "      <td>NaN</td>\n",
              "    </tr>\n",
              "  </tbody>\n",
              "</table>\n",
              "</div>"
            ],
            "text/plain": [
              "                     sum_sq     df           F         PR(>F)\n",
              "Channel:day    3.482935e+08   91.0   20.810072   2.235705e-99\n",
              "Residual       6.547573e+07  356.0         NaN            NaN\n",
              "Channel:month  3.506585e+08   47.0   47.287170  4.548124e-135\n",
              "Residual       6.311072e+07  400.0         NaN            NaN\n",
              "Channel:year   3.297413e+08    3.0  580.779843  3.013216e-153\n",
              "Residual       8.402790e+07  444.0         NaN            NaN"
            ]
          },
          "metadata": {},
          "output_type": "display_data"
        }
      ],
      "source": [
        "aov_v = {}\n",
        "for x in to_cat:\n",
        "    model = ols('Gross_Profit ~ Channel:{}'.format(x), data = df).fit()\n",
        "    aov_v[x] = sm.stats.anova_lm(model, typ=2)\n",
        "\n",
        "aov_vasd = []\n",
        "for k, v in aov_v.items():\n",
        "    df_aov_vasd = pd.DataFrame(v)\n",
        "    df_aov_vasd.index.name = k\n",
        "    aov_vasd.append(df_aov_vasd)\n",
        "\n",
        "aov_vasd_df = pd.concat(aov_vasd)\n",
        "display(aov_vasd_df)"
      ]
    },
    {
      "cell_type": "code",
      "execution_count": null,
      "id": "08982634",
      "metadata": {
        "id": "08982634"
      },
      "outputs": [],
      "source": [
        "labels = df['Channel']"
      ]
    },
    {
      "cell_type": "code",
      "execution_count": null,
      "id": "8f47d227",
      "metadata": {
        "id": "8f47d227",
        "outputId": "58946ffc-74ad-4cdd-cd26-f8794a47723e"
      },
      "outputs": [
        {
          "data": {
            "image/png": "[encoded data removed]",
            "text/plain": [
              "<Figure size 432x432 with 1 Axes>"
            ]
          },
          "metadata": {
            "needs_background": "light"
          },
          "output_type": "display_data"
        }
      ],
      "source": [
        "fig, ax = plt.subplots(figsize=(6, 6))\n",
        "fig = interaction_plot(x=df['day'], trace=df['Channel'], response=df['Gross_Profit'], colors=[\"red\", \"blue\", \"green\", \"orange\"], ms=10, ax=ax)"
      ]
    },
    {
      "cell_type": "code",
      "execution_count": null,
      "id": "935c1cbb",
      "metadata": {
        "id": "935c1cbb",
        "outputId": "8cacd31c-71b9-4a85-8d69-c4368325f162"
      },
      "outputs": [
        {
          "data": {
            "image/png": "[encoded data removed]",
            "text/plain": [
              "<Figure size 432x432 with 1 Axes>"
            ]
          },
          "metadata": {
            "needs_background": "light"
          },
          "output_type": "display_data"
        }
      ],
      "source": [
        "fig, ax = plt.subplots(figsize=(6, 6))\n",
        "fig = interaction_plot(x=df['month'], trace=df['Channel'], response=df['Gross_Profit'], colors=[\"red\", \"blue\", \"green\", \"orange\"], ms=10, ax=ax)"
      ]
    },
    {
      "cell_type": "code",
      "execution_count": null,
      "id": "f10883f0",
      "metadata": {
        "scrolled": true,
        "id": "f10883f0",
        "outputId": "622becab-3686-4ce3-ff65-44f43b311b89"
      },
      "outputs": [
        {
          "data": {
            "image/png": "[encoded data removed]",
            "text/plain": [
              "<Figure size 432x432 with 1 Axes>"
            ]
          },
          "metadata": {
            "needs_background": "light"
          },
          "output_type": "display_data"
        }
      ],
      "source": [
        "fig, ax = plt.subplots(figsize=(6, 6))\n",
        "fig = interaction_plot(x=df['year'], trace=df['Channel'], response=df['Gross_Profit'], colors=[\"red\", \"blue\", \"green\", \"orange\"], ms=10, ax=ax)"
      ]
    },
    {
      "cell_type": "markdown",
      "id": "3720a89d",
      "metadata": {
        "id": "3720a89d"
      },
      "source": [
        "- Based on the predictive analytics and analysis of variance, give business recommendations to the company about how to spend on advertisement effectively to improve the business performance of their company."
      ]
    },
    {
      "cell_type": "markdown",
      "id": "6b7a4f73",
      "metadata": {
        "id": "6b7a4f73"
      },
      "source": [
        "Based on the analysis performed we could see:\n",
        "1. The interaction between day, month, and year and the channel variables does not have an effect on the gross profit total, which means independent of the date that the ad is posted, the gross profit gained from the channels will be similar throughout the different dates.\n",
        "2. The variables 'Clicks', 'Sales_Transactions', 'day', and 'month' are the variables that can predict the gross profit, which means these variables are going to determine the amount of income that the company received.\n",
        "3. The recommendation for the company will be to invest in advertising on Google, we can see that their average during the year has been higher than the other channel (Facebook, LinkedIn, and Reddit)\n",
        "4. This analysis may have some bias due to the analysis of the normality was not performed (Shapiro and QQ Plot)."
      ]
    }
  ],
  "metadata": {
    "kernelspec": {
      "display_name": "Python 3 (ipykernel)",
      "language": "python",
      "name": "python3"
    },
    "language_info": {
      "codemirror_mode": {
        "name": "ipython",
        "version": 3
      },
      "file_extension": ".py",
      "mimetype": "text/x-python",
      "name": "python",
      "nbconvert_exporter": "python",
      "pygments_lexer": "ipython3",
      "version": "3.9.12"
    },
    "colab": {
      "provenance": [],
      "include_colab_link": true
    }
  },
  "nbformat": 4,
  "nbformat_minor": 5
}